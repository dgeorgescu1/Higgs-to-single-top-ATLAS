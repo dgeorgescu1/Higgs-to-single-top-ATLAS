{
 "cells": [
  {
   "cell_type": "markdown",
   "metadata": {},
   "source": [
    "# Open data"
   ]
  },
  {
   "cell_type": "code",
   "execution_count": 1,
   "metadata": {},
   "outputs": [],
   "source": [
    "import numpy as np \n",
    "import pandas as pd \n",
    "import matplotlib.pyplot as plt\n",
    "from iminuit import Minuit\n",
    "from scipy import integrate\n",
    "from scipy import stats"
   ]
  },
  {
   "cell_type": "code",
   "execution_count": 2,
   "metadata": {},
   "outputs": [],
   "source": [
    "%matplotlib inline\n",
    "plt.rcParams['figure.figsize'] = (9, 6) # inches\n",
    "plt.rcParams['font.size'] = 9"
   ]
  },
  {
   "cell_type": "code",
   "execution_count": 3,
   "metadata": {},
   "outputs": [
    {
     "name": "stdout",
     "output_type": "stream",
     "text": [
      "['y1_pt', 'y1_eta', 'y1_phi', 'y1_E', 'y2_pt', 'y2_eta', 'y2_phi', 'y2_E', 'Njets', 'jet1_pt', 'jet1_eta', 'jet1_phi', 'jet1_E', 'jet1_DL1R', 'jet2_pt', 'jet2_eta', 'jet2_phi', 'jet2_E', 'jet2_DL1R', 'jet3_pt', 'jet3_eta', 'jet3_phi', 'jet3_E', 'jet3_DL1R', 'jet4_pt', 'jet4_eta', 'jet4_phi', 'jet4_E', 'jet4_DL1R', 'jet5_pt', 'jet5_eta', 'jet5_phi', 'jet5_E', 'jet5_DL1R', 'jet6_pt', 'jet6_eta', 'jet6_phi', 'jet6_E', 'jet6_DL1R', 'jet7_pt', 'jet7_eta', 'jet7_phi', 'jet7_E', 'jet7_DL1R', 'jet8_pt', 'jet8_eta', 'jet8_phi', 'jet8_E', 'jet8_DL1R', 'jet9_pt', 'jet9_eta', 'jet9_phi', 'jet9_E', 'jet9_DL1R', 'jet10_pt', 'jet10_eta', 'jet10_phi', 'jet10_E', 'jet10_DL1R', 'jet11_pt', 'jet11_eta', 'jet11_phi', 'jet11_E', 'jet11_DL1R', 'jet12_pt', 'jet12_eta', 'jet12_phi', 'jet12_E', 'jet12_DL1R', 'jet13_pt', 'jet13_eta', 'jet13_phi', 'jet13_E', 'jet13_DL1R', 'jet14_pt', 'jet14_eta', 'jet14_phi', 'jet14_E', 'jet14_DL1R', 'jet15_pt', 'jet15_eta', 'jet15_phi', 'jet15_E', 'jet15_DL1R']\n"
     ]
    }
   ],
   "source": [
    "columns = ['y1_pt', 'y1_eta', 'y1_phi', 'y1_E', 'y2_pt', 'y2_eta', 'y2_phi', 'y2_E', 'Njets']\n",
    "for i in range (1,16):\n",
    "    columns.append( 'jet' + str(i) + '_pt' )\n",
    "    columns.append( 'jet' + str(i) + '_eta' )\n",
    "    columns.append( 'jet' + str(i) + '_phi' )\n",
    "    columns.append( 'jet' + str(i) + '_E' )\n",
    "    columns.append( 'jet' + str(i) + '_DL1R' )\n",
    "    \n",
    "print (columns)"
   ]
  },
  {
   "cell_type": "code",
   "execution_count": 4,
   "metadata": {},
   "outputs": [],
   "source": [
    "data = pd.read_csv('tH_gamgambWqq.csv', header = None, names = columns)"
   ]
  },
  {
   "cell_type": "code",
   "execution_count": 5,
   "metadata": {},
   "outputs": [
    {
     "data": {
      "text/html": [
       "<div>\n",
       "<style scoped>\n",
       "    .dataframe tbody tr th:only-of-type {\n",
       "        vertical-align: middle;\n",
       "    }\n",
       "\n",
       "    .dataframe tbody tr th {\n",
       "        vertical-align: top;\n",
       "    }\n",
       "\n",
       "    .dataframe thead th {\n",
       "        text-align: right;\n",
       "    }\n",
       "</style>\n",
       "<table border=\"1\" class=\"dataframe\">\n",
       "  <thead>\n",
       "    <tr style=\"text-align: right;\">\n",
       "      <th></th>\n",
       "      <th>y1_pt</th>\n",
       "      <th>y1_eta</th>\n",
       "      <th>y1_phi</th>\n",
       "      <th>y1_E</th>\n",
       "      <th>y2_pt</th>\n",
       "      <th>y2_eta</th>\n",
       "      <th>y2_phi</th>\n",
       "      <th>y2_E</th>\n",
       "      <th>Njets</th>\n",
       "      <th>jet1_pt</th>\n",
       "      <th>...</th>\n",
       "      <th>jet14_pt</th>\n",
       "      <th>jet14_eta</th>\n",
       "      <th>jet14_phi</th>\n",
       "      <th>jet14_E</th>\n",
       "      <th>jet14_DL1R</th>\n",
       "      <th>jet15_pt</th>\n",
       "      <th>jet15_eta</th>\n",
       "      <th>jet15_phi</th>\n",
       "      <th>jet15_E</th>\n",
       "      <th>jet15_DL1R</th>\n",
       "    </tr>\n",
       "  </thead>\n",
       "  <tbody>\n",
       "    <tr>\n",
       "      <th>0</th>\n",
       "      <td>390375.0</td>\n",
       "      <td>-0.547024</td>\n",
       "      <td>0.022353</td>\n",
       "      <td>450253.0</td>\n",
       "      <td>88331.8</td>\n",
       "      <td>-1.196040</td>\n",
       "      <td>-0.110091</td>\n",
       "      <td>159411.0</td>\n",
       "      <td>4</td>\n",
       "      <td>244599.0</td>\n",
       "      <td>...</td>\n",
       "      <td>NaN</td>\n",
       "      <td>NaN</td>\n",
       "      <td>NaN</td>\n",
       "      <td>NaN</td>\n",
       "      <td>NaN</td>\n",
       "      <td>NaN</td>\n",
       "      <td>NaN</td>\n",
       "      <td>NaN</td>\n",
       "      <td>NaN</td>\n",
       "      <td>NaN</td>\n",
       "    </tr>\n",
       "    <tr>\n",
       "      <th>1</th>\n",
       "      <td>88909.4</td>\n",
       "      <td>-1.707230</td>\n",
       "      <td>1.613110</td>\n",
       "      <td>253171.0</td>\n",
       "      <td>36525.8</td>\n",
       "      <td>-0.128228</td>\n",
       "      <td>2.990240</td>\n",
       "      <td>36826.5</td>\n",
       "      <td>4</td>\n",
       "      <td>113569.0</td>\n",
       "      <td>...</td>\n",
       "      <td>NaN</td>\n",
       "      <td>NaN</td>\n",
       "      <td>NaN</td>\n",
       "      <td>NaN</td>\n",
       "      <td>NaN</td>\n",
       "      <td>NaN</td>\n",
       "      <td>NaN</td>\n",
       "      <td>NaN</td>\n",
       "      <td>NaN</td>\n",
       "      <td>NaN</td>\n",
       "    </tr>\n",
       "    <tr>\n",
       "      <th>2</th>\n",
       "      <td>236877.0</td>\n",
       "      <td>1.705330</td>\n",
       "      <td>-0.967860</td>\n",
       "      <td>673312.0</td>\n",
       "      <td>42001.2</td>\n",
       "      <td>0.576428</td>\n",
       "      <td>-1.403090</td>\n",
       "      <td>49174.4</td>\n",
       "      <td>5</td>\n",
       "      <td>123003.0</td>\n",
       "      <td>...</td>\n",
       "      <td>NaN</td>\n",
       "      <td>NaN</td>\n",
       "      <td>NaN</td>\n",
       "      <td>NaN</td>\n",
       "      <td>NaN</td>\n",
       "      <td>NaN</td>\n",
       "      <td>NaN</td>\n",
       "      <td>NaN</td>\n",
       "      <td>NaN</td>\n",
       "      <td>NaN</td>\n",
       "    </tr>\n",
       "    <tr>\n",
       "      <th>3</th>\n",
       "      <td>168441.0</td>\n",
       "      <td>-1.783590</td>\n",
       "      <td>1.083770</td>\n",
       "      <td>515366.0</td>\n",
       "      <td>46945.1</td>\n",
       "      <td>-1.366870</td>\n",
       "      <td>2.594060</td>\n",
       "      <td>98066.9</td>\n",
       "      <td>3</td>\n",
       "      <td>88992.7</td>\n",
       "      <td>...</td>\n",
       "      <td>NaN</td>\n",
       "      <td>NaN</td>\n",
       "      <td>NaN</td>\n",
       "      <td>NaN</td>\n",
       "      <td>NaN</td>\n",
       "      <td>NaN</td>\n",
       "      <td>NaN</td>\n",
       "      <td>NaN</td>\n",
       "      <td>NaN</td>\n",
       "      <td>NaN</td>\n",
       "    </tr>\n",
       "    <tr>\n",
       "      <th>4</th>\n",
       "      <td>384296.0</td>\n",
       "      <td>0.165686</td>\n",
       "      <td>0.932733</td>\n",
       "      <td>389583.0</td>\n",
       "      <td>281261.0</td>\n",
       "      <td>-0.092400</td>\n",
       "      <td>0.652804</td>\n",
       "      <td>282462.0</td>\n",
       "      <td>5</td>\n",
       "      <td>337068.0</td>\n",
       "      <td>...</td>\n",
       "      <td>NaN</td>\n",
       "      <td>NaN</td>\n",
       "      <td>NaN</td>\n",
       "      <td>NaN</td>\n",
       "      <td>NaN</td>\n",
       "      <td>NaN</td>\n",
       "      <td>NaN</td>\n",
       "      <td>NaN</td>\n",
       "      <td>NaN</td>\n",
       "      <td>NaN</td>\n",
       "    </tr>\n",
       "  </tbody>\n",
       "</table>\n",
       "<p>5 rows × 84 columns</p>\n",
       "</div>"
      ],
      "text/plain": [
       "      y1_pt    y1_eta    y1_phi      y1_E     y2_pt    y2_eta    y2_phi  \\\n",
       "0  390375.0 -0.547024  0.022353  450253.0   88331.8 -1.196040 -0.110091   \n",
       "1   88909.4 -1.707230  1.613110  253171.0   36525.8 -0.128228  2.990240   \n",
       "2  236877.0  1.705330 -0.967860  673312.0   42001.2  0.576428 -1.403090   \n",
       "3  168441.0 -1.783590  1.083770  515366.0   46945.1 -1.366870  2.594060   \n",
       "4  384296.0  0.165686  0.932733  389583.0  281261.0 -0.092400  0.652804   \n",
       "\n",
       "       y2_E  Njets   jet1_pt  ...  jet14_pt  jet14_eta  jet14_phi  jet14_E  \\\n",
       "0  159411.0      4  244599.0  ...       NaN        NaN        NaN      NaN   \n",
       "1   36826.5      4  113569.0  ...       NaN        NaN        NaN      NaN   \n",
       "2   49174.4      5  123003.0  ...       NaN        NaN        NaN      NaN   \n",
       "3   98066.9      3   88992.7  ...       NaN        NaN        NaN      NaN   \n",
       "4  282462.0      5  337068.0  ...       NaN        NaN        NaN      NaN   \n",
       "\n",
       "   jet14_DL1R  jet15_pt  jet15_eta  jet15_phi  jet15_E  jet15_DL1R  \n",
       "0         NaN       NaN        NaN        NaN      NaN         NaN  \n",
       "1         NaN       NaN        NaN        NaN      NaN         NaN  \n",
       "2         NaN       NaN        NaN        NaN      NaN         NaN  \n",
       "3         NaN       NaN        NaN        NaN      NaN         NaN  \n",
       "4         NaN       NaN        NaN        NaN      NaN         NaN  \n",
       "\n",
       "[5 rows x 84 columns]"
      ]
     },
     "execution_count": 5,
     "metadata": {},
     "output_type": "execute_result"
    }
   ],
   "source": [
    "data.head()"
   ]
  },
  {
   "cell_type": "code",
   "execution_count": 6,
   "metadata": {},
   "outputs": [],
   "source": [
    "data = data.drop(data.columns[np.arange(8, 84)], axis=1)"
   ]
  },
  {
   "cell_type": "code",
   "execution_count": 7,
   "metadata": {},
   "outputs": [
    {
     "data": {
      "text/html": [
       "<div>\n",
       "<style scoped>\n",
       "    .dataframe tbody tr th:only-of-type {\n",
       "        vertical-align: middle;\n",
       "    }\n",
       "\n",
       "    .dataframe tbody tr th {\n",
       "        vertical-align: top;\n",
       "    }\n",
       "\n",
       "    .dataframe thead th {\n",
       "        text-align: right;\n",
       "    }\n",
       "</style>\n",
       "<table border=\"1\" class=\"dataframe\">\n",
       "  <thead>\n",
       "    <tr style=\"text-align: right;\">\n",
       "      <th></th>\n",
       "      <th>y1_pt</th>\n",
       "      <th>y1_eta</th>\n",
       "      <th>y1_phi</th>\n",
       "      <th>y1_E</th>\n",
       "      <th>y2_pt</th>\n",
       "      <th>y2_eta</th>\n",
       "      <th>y2_phi</th>\n",
       "      <th>y2_E</th>\n",
       "    </tr>\n",
       "  </thead>\n",
       "  <tbody>\n",
       "    <tr>\n",
       "      <th>0</th>\n",
       "      <td>390375.0</td>\n",
       "      <td>-0.547024</td>\n",
       "      <td>0.022353</td>\n",
       "      <td>450253.0</td>\n",
       "      <td>88331.8</td>\n",
       "      <td>-1.196040</td>\n",
       "      <td>-0.110091</td>\n",
       "      <td>159411.0</td>\n",
       "    </tr>\n",
       "    <tr>\n",
       "      <th>1</th>\n",
       "      <td>88909.4</td>\n",
       "      <td>-1.707230</td>\n",
       "      <td>1.613110</td>\n",
       "      <td>253171.0</td>\n",
       "      <td>36525.8</td>\n",
       "      <td>-0.128228</td>\n",
       "      <td>2.990240</td>\n",
       "      <td>36826.5</td>\n",
       "    </tr>\n",
       "    <tr>\n",
       "      <th>2</th>\n",
       "      <td>236877.0</td>\n",
       "      <td>1.705330</td>\n",
       "      <td>-0.967860</td>\n",
       "      <td>673312.0</td>\n",
       "      <td>42001.2</td>\n",
       "      <td>0.576428</td>\n",
       "      <td>-1.403090</td>\n",
       "      <td>49174.4</td>\n",
       "    </tr>\n",
       "    <tr>\n",
       "      <th>3</th>\n",
       "      <td>168441.0</td>\n",
       "      <td>-1.783590</td>\n",
       "      <td>1.083770</td>\n",
       "      <td>515366.0</td>\n",
       "      <td>46945.1</td>\n",
       "      <td>-1.366870</td>\n",
       "      <td>2.594060</td>\n",
       "      <td>98066.9</td>\n",
       "    </tr>\n",
       "    <tr>\n",
       "      <th>4</th>\n",
       "      <td>384296.0</td>\n",
       "      <td>0.165686</td>\n",
       "      <td>0.932733</td>\n",
       "      <td>389583.0</td>\n",
       "      <td>281261.0</td>\n",
       "      <td>-0.092400</td>\n",
       "      <td>0.652804</td>\n",
       "      <td>282462.0</td>\n",
       "    </tr>\n",
       "    <tr>\n",
       "      <th>...</th>\n",
       "      <td>...</td>\n",
       "      <td>...</td>\n",
       "      <td>...</td>\n",
       "      <td>...</td>\n",
       "      <td>...</td>\n",
       "      <td>...</td>\n",
       "      <td>...</td>\n",
       "      <td>...</td>\n",
       "    </tr>\n",
       "    <tr>\n",
       "      <th>111305</th>\n",
       "      <td>126436.0</td>\n",
       "      <td>-0.646720</td>\n",
       "      <td>-1.864920</td>\n",
       "      <td>153811.0</td>\n",
       "      <td>31523.1</td>\n",
       "      <td>-0.998545</td>\n",
       "      <td>1.815580</td>\n",
       "      <td>48588.8</td>\n",
       "    </tr>\n",
       "    <tr>\n",
       "      <th>111306</th>\n",
       "      <td>101824.0</td>\n",
       "      <td>0.235308</td>\n",
       "      <td>0.018492</td>\n",
       "      <td>104656.0</td>\n",
       "      <td>50372.3</td>\n",
       "      <td>-0.009167</td>\n",
       "      <td>-2.157660</td>\n",
       "      <td>50374.4</td>\n",
       "    </tr>\n",
       "    <tr>\n",
       "      <th>111307</th>\n",
       "      <td>72512.1</td>\n",
       "      <td>0.265093</td>\n",
       "      <td>-2.506930</td>\n",
       "      <td>75074.9</td>\n",
       "      <td>68986.0</td>\n",
       "      <td>1.779620</td>\n",
       "      <td>-1.822220</td>\n",
       "      <td>210279.0</td>\n",
       "    </tr>\n",
       "    <tr>\n",
       "      <th>111308</th>\n",
       "      <td>125397.0</td>\n",
       "      <td>1.746290</td>\n",
       "      <td>1.189130</td>\n",
       "      <td>370404.0</td>\n",
       "      <td>58541.7</td>\n",
       "      <td>1.572810</td>\n",
       "      <td>-0.466225</td>\n",
       "      <td>147164.0</td>\n",
       "    </tr>\n",
       "    <tr>\n",
       "      <th>111309</th>\n",
       "      <td>205179.0</td>\n",
       "      <td>-1.342500</td>\n",
       "      <td>2.760900</td>\n",
       "      <td>419568.0</td>\n",
       "      <td>76309.0</td>\n",
       "      <td>-0.450990</td>\n",
       "      <td>-3.103890</td>\n",
       "      <td>84201.8</td>\n",
       "    </tr>\n",
       "  </tbody>\n",
       "</table>\n",
       "<p>111310 rows × 8 columns</p>\n",
       "</div>"
      ],
      "text/plain": [
       "           y1_pt    y1_eta    y1_phi      y1_E     y2_pt    y2_eta    y2_phi  \\\n",
       "0       390375.0 -0.547024  0.022353  450253.0   88331.8 -1.196040 -0.110091   \n",
       "1        88909.4 -1.707230  1.613110  253171.0   36525.8 -0.128228  2.990240   \n",
       "2       236877.0  1.705330 -0.967860  673312.0   42001.2  0.576428 -1.403090   \n",
       "3       168441.0 -1.783590  1.083770  515366.0   46945.1 -1.366870  2.594060   \n",
       "4       384296.0  0.165686  0.932733  389583.0  281261.0 -0.092400  0.652804   \n",
       "...          ...       ...       ...       ...       ...       ...       ...   \n",
       "111305  126436.0 -0.646720 -1.864920  153811.0   31523.1 -0.998545  1.815580   \n",
       "111306  101824.0  0.235308  0.018492  104656.0   50372.3 -0.009167 -2.157660   \n",
       "111307   72512.1  0.265093 -2.506930   75074.9   68986.0  1.779620 -1.822220   \n",
       "111308  125397.0  1.746290  1.189130  370404.0   58541.7  1.572810 -0.466225   \n",
       "111309  205179.0 -1.342500  2.760900  419568.0   76309.0 -0.450990 -3.103890   \n",
       "\n",
       "            y2_E  \n",
       "0       159411.0  \n",
       "1        36826.5  \n",
       "2        49174.4  \n",
       "3        98066.9  \n",
       "4       282462.0  \n",
       "...          ...  \n",
       "111305   48588.8  \n",
       "111306   50374.4  \n",
       "111307  210279.0  \n",
       "111308  147164.0  \n",
       "111309   84201.8  \n",
       "\n",
       "[111310 rows x 8 columns]"
      ]
     },
     "execution_count": 7,
     "metadata": {},
     "output_type": "execute_result"
    }
   ],
   "source": [
    "data"
   ]
  },
  {
   "cell_type": "code",
   "execution_count": null,
   "metadata": {},
   "outputs": [],
   "source": []
  },
  {
   "cell_type": "code",
   "execution_count": null,
   "metadata": {},
   "outputs": [],
   "source": []
  },
  {
   "cell_type": "code",
   "execution_count": null,
   "metadata": {},
   "outputs": [],
   "source": []
  },
  {
   "cell_type": "markdown",
   "metadata": {},
   "source": [
    "# Make plots of photon variables"
   ]
  },
  {
   "cell_type": "code",
   "execution_count": 8,
   "metadata": {},
   "outputs": [
    {
     "data": {
      "image/png": "[encoded data removed]",
      "text/plain": [
       "<Figure size 900x600 with 4 Axes>"
      ]
     },
     "metadata": {},
     "output_type": "display_data"
    }
   ],
   "source": [
    "fig, axs = plt.subplots(2, 2)\n",
    "\n",
    "axs[0, 0].hist(data['y1_pt'], bins = 300, color = 'magenta', alpha = 0.5, label = 'y1_pt')\n",
    "axs[0, 0].hist(data['y2_pt'], bins = 300, color = 'blue', alpha = 0.5, label = 'y2_pt');\n",
    "axs[0,0].set_xlabel('Momentum (MeV)')\n",
    "axs[0,0].set_ylabel('Counts')\n",
    "axs[0,0].set_xlim(0, 0.6e6)\n",
    "axs[0,0].legend()\n",
    "\n",
    "axs[0, 1].hist(data['y1_eta'], bins = 300, color = 'magenta', alpha = 0.5, label = 'y1_eta')\n",
    "axs[0, 1].hist(data['y2_eta'], bins = 300, color = 'blue', alpha = 0.5, label = 'y2_eta');\n",
    "axs[0,1].set_xlabel('Eta (pseudorapidity)')\n",
    "axs[0,1].set_ylabel('Counts')\n",
    "axs[0,1].legend()\n",
    "\n",
    "axs[1, 0].hist(data['y1_phi'], bins = 300, color = 'magenta', alpha = 0.5, label = 'y1_phi')\n",
    "axs[1, 0].hist(data['y2_phi'], bins = 300, color = 'blue', alpha = 0.5, label = 'y2_phi');\n",
    "axs[1,0].set_xlabel('Phi')\n",
    "axs[1,0].set_ylabel('Counts')\n",
    "axs[1,0].legend()\n",
    "\n",
    "axs[1, 1].hist(data['y1_E'], bins = 300, color = 'magenta', alpha = 0.5, label = 'y1_E')\n",
    "axs[1, 1].hist(data['y2_E'], bins = 300, color = 'blue', alpha = 0.5, label = 'y2_E');\n",
    "axs[1,1].set_xlabel('Energy (MeV)')\n",
    "axs[1,1].set_ylabel('Counts')\n",
    "axs[1,1].set_xlim(0, 1.2e6)\n",
    "axs[1,1].legend();"
   ]
  },
  {
   "cell_type": "code",
   "execution_count": null,
   "metadata": {},
   "outputs": [],
   "source": []
  },
  {
   "cell_type": "code",
   "execution_count": null,
   "metadata": {},
   "outputs": [],
   "source": []
  },
  {
   "cell_type": "code",
   "execution_count": null,
   "metadata": {},
   "outputs": [],
   "source": []
  },
  {
   "cell_type": "markdown",
   "metadata": {},
   "source": [
    "# 4 mom and plot yy mass dist."
   ]
  },
  {
   "cell_type": "code",
   "execution_count": 9,
   "metadata": {},
   "outputs": [],
   "source": [
    "def fomy(x, num):\n",
    "    \n",
    "    string = 'y' + str(num) + '_'\n",
    "    E = x[string + 'E']\n",
    "    px = abs(x[string + 'pt']) * np.cos(x[string + 'phi'])\n",
    "    py = abs(x[string + 'pt']) * np.sin(x[string + 'phi'])\n",
    "    pz = x[string + 'pt']/(np.tan(2*np.arctan(np.exp(-x[string + 'eta']))))\n",
    "\n",
    "    return np.array([E, px, py, pz])"
   ]
  },
  {
   "cell_type": "code",
   "execution_count": 10,
   "metadata": {},
   "outputs": [],
   "source": [
    "data['y1_fom'] = data.apply(lambda x: fomy(x, 1), axis = 1).apply(lambda x: x)\n",
    "data['y2_fom'] = data.apply(lambda x: fomy(x, 2), axis = 1).apply(lambda x: x)\n",
    "data = data.assign(H_fom = data.y1_fom + data.y2_fom)"
   ]
  },
  {
   "cell_type": "code",
   "execution_count": 11,
   "metadata": {},
   "outputs": [
    {
     "data": {
      "image/png": "[encoded data removed]",
      "text/plain": [
       "<Figure size 900x600 with 1 Axes>"
      ]
     },
     "metadata": {},
     "output_type": "display_data"
    }
   ],
   "source": [
    "H_mass = []\n",
    "\n",
    "for row in data.H_fom:\n",
    "    H_mass.append(np.sqrt( row[0]**2 - row[1]**2 - row[2]**2 - row[3]**2 )/1000)\n",
    "\n",
    "n, bins, patches = plt.hist(H_mass, bins = 1000, color = 'gold')\n",
    "plt.xlabel('Mass GeV')\n",
    "plt.ylabel('Counts')\n",
    "plt.title('Higgs Mass');"
   ]
  },
  {
   "cell_type": "code",
   "execution_count": 12,
   "metadata": {},
   "outputs": [
    {
     "name": "stdout",
     "output_type": "stream",
     "text": [
      "125.18663916866649\n"
     ]
    }
   ],
   "source": [
    "arg = np.argmax(n)\n",
    "print (bins[arg])"
   ]
  },
  {
   "cell_type": "code",
   "execution_count": null,
   "metadata": {},
   "outputs": [],
   "source": []
  },
  {
   "cell_type": "code",
   "execution_count": null,
   "metadata": {},
   "outputs": [],
   "source": []
  },
  {
   "cell_type": "code",
   "execution_count": null,
   "metadata": {},
   "outputs": [],
   "source": []
  },
  {
   "cell_type": "markdown",
   "metadata": {},
   "source": [
    "## Fitting mass dist."
   ]
  },
  {
   "cell_type": "code",
   "execution_count": 13,
   "metadata": {},
   "outputs": [],
   "source": [
    "H_array = np.array(H_mass)\n",
    "vals1 = (115 < H_array)\n",
    "H_array = H_array[vals1]\n",
    "vals2 = (135 > H_array)\n",
    "H_array = H_array[vals2]"
   ]
  },
  {
   "cell_type": "code",
   "execution_count": 14,
   "metadata": {},
   "outputs": [
    {
     "data": {
      "image/png": "[encoded data removed]",
      "text/plain": [
       "<Figure size 900x600 with 1 Axes>"
      ]
     },
     "metadata": {},
     "output_type": "display_data"
    }
   ],
   "source": [
    "plt.hist(H_array, bins = 1000, color = 'gold', density = True)\n",
    "plt.xlabel('Mass GeV')\n",
    "plt.ylabel('Counts')\n",
    "plt.title('Higgs Mass');"
   ]
  },
  {
   "cell_type": "code",
   "execution_count": 15,
   "metadata": {},
   "outputs": [],
   "source": [
    "def pdf_g(x, loc, sigma):\n",
    "    \n",
    "    \"\"\"\n",
    "    Pdf function describing \n",
    "    \"\"\"\n",
    "    sigma = 1.8\n",
    "\n",
    "    gaussian = (1/(sigma*np.sqrt(2*np.pi))) * np.exp(-(x-loc)**2 / (2*sigma**2))  \n",
    "\n",
    "\n",
    "    return gaussian"
   ]
  },
  {
   "cell_type": "code",
   "execution_count": 16,
   "metadata": {},
   "outputs": [],
   "source": [
    "def like_g(loc, sigma):\n",
    "    \n",
    "    \"\"\"\n",
    "    Likelihood function for the monte carlo fit\n",
    "    \"\"\"\n",
    "    \n",
    "    \n",
    "    return -np.sum(np.log(pdf_g(H_array, loc, sigma)))"
   ]
  },
  {
   "cell_type": "code",
   "execution_count": 17,
   "metadata": {},
   "outputs": [
    {
     "name": "stdout",
     "output_type": "stream",
     "text": [
      "<ValueView loc=125.02988366148477 sigma=0.5>\n",
      "<ErrorView loc=0.0 sigma=0.0>\n"
     ]
    }
   ],
   "source": [
    "m_comb_g = Minuit(like_g, loc = 125, sigma = 0.5)\n",
    "\n",
    "m_comb_g.migrad()  # run optimiser\n",
    "m_comb_g.hesse()   # run covariance estimator\n",
    "\n",
    "print(m_comb_g.values)  # print estimated values\n",
    "print(m_comb_g.errors) "
   ]
  },
  {
   "cell_type": "code",
   "execution_count": 18,
   "metadata": {},
   "outputs": [
    {
     "data": {
      "image/png": "[encoded data removed]",
      "text/plain": [
       "<Figure size 900x600 with 1 Axes>"
      ]
     },
     "metadata": {},
     "output_type": "display_data"
    }
   ],
   "source": [
    "n, bins, patches = plt.hist(H_array, bins = 500, color = 'gold', density = True);\n",
    "\n",
    "x = bins\n",
    "y = pdf_g(x, *m_comb_g.values)\n",
    "\n",
    "plt.plot(x, y, 'red');"
   ]
  },
  {
   "cell_type": "code",
   "execution_count": null,
   "metadata": {},
   "outputs": [],
   "source": []
  },
  {
   "cell_type": "code",
   "execution_count": null,
   "metadata": {},
   "outputs": [],
   "source": []
  },
  {
   "cell_type": "code",
   "execution_count": null,
   "metadata": {},
   "outputs": [],
   "source": []
  },
  {
   "cell_type": "code",
   "execution_count": null,
   "metadata": {},
   "outputs": [],
   "source": []
  },
  {
   "cell_type": "code",
   "execution_count": 19,
   "metadata": {},
   "outputs": [],
   "source": [
    "def pdf_cb(x, beta, loc, scale):\n",
    "    \n",
    " \n",
    "    \n",
    "    m = 1.5\n",
    "    \n",
    "    mass_min = H_array.min()\n",
    "    mass_max = H_array.max()\n",
    "    \n",
    "    function = lambda x: stats.crystalball.pdf(x, beta, m, loc, scale)\n",
    "    area = integrate.quad(function, mass_min, mass_max)[0]\n",
    "    \n",
    "    crystal_ball = stats.crystalball.pdf(x, beta, m, loc, scale) / area\n",
    "\n",
    "    \n",
    "    return crystal_ball"
   ]
  },
  {
   "cell_type": "code",
   "execution_count": 20,
   "metadata": {},
   "outputs": [],
   "source": [
    "def like_cb(beta, loc, scale):\n",
    "    \n",
    "    \"\"\"\n",
    "    Likelihood function for the monte carlo fit\n",
    "    \"\"\"\n",
    "    \n",
    "    \n",
    "    return -np.sum(np.log(pdf_cb(H_array, beta, loc, scale)))"
   ]
  },
  {
   "cell_type": "code",
   "execution_count": 21,
   "metadata": {},
   "outputs": [
    {
     "name": "stdout",
     "output_type": "stream",
     "text": [
      "<ValueView beta=2.208937611490848 loc=125.12167106628102 scale=1.9660640104275968>\n",
      "<ErrorView beta=0.01853234857623572 loc=0.008787205008028568 scale=0.006731532049412988>\n"
     ]
    }
   ],
   "source": [
    "m_comb_cb = Minuit(like_cb, beta = 1, loc = 125, scale = 0.5)\n",
    "\n",
    "m_comb_cb.migrad()  # run optimiser\n",
    "m_comb_cb.hesse()   # run covariance estimator\n",
    "\n",
    "print(m_comb_cb.values)  # print estimated values\n",
    "print(m_comb_cb.errors) "
   ]
  },
  {
   "cell_type": "code",
   "execution_count": 22,
   "metadata": {},
   "outputs": [
    {
     "data": {
      "image/png": "[encoded data removed]",
      "text/plain": [
       "<Figure size 900x600 with 1 Axes>"
      ]
     },
     "metadata": {},
     "output_type": "display_data"
    }
   ],
   "source": [
    "n_cb, bins_cb, patches_cb = plt.hist(H_array, bins = 500, color = 'gold', density = True);\n",
    "\n",
    "x_cb = bins_cb\n",
    "y_cb = pdf_cb(x_cb, *m_comb_cb.values)\n",
    "\n",
    "plt.plot(x_cb, y_cb, 'red');"
   ]
  },
  {
   "cell_type": "code",
   "execution_count": null,
   "metadata": {},
   "outputs": [],
   "source": []
  }
 ],
 "metadata": {
  "kernelspec": {
   "display_name": "Python 3 (ipykernel)",
   "language": "python",
   "name": "python3"
  },
  "language_info": {
   "codemirror_mode": {
    "name": "ipython",
    "version": 3
   },
   "file_extension": ".py",
   "mimetype": "text/x-python",
   "name": "python",
   "nbconvert_exporter": "python",
   "pygments_lexer": "ipython3",
   "version": "3.9.15"
  }
 },
 "nbformat": 4,
 "nbformat_minor": 4
}
